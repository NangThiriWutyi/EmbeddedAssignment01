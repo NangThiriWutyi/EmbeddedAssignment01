{
  "nbformat": 4,
  "nbformat_minor": 0,
  "metadata": {
    "colab": {
      "provenance": []
    },
    "kernelspec": {
      "name": "python3",
      "display_name": "Python 3"
    },
    "language_info": {
      "name": "python"
    }
  },
  "cells": [
    {
      "cell_type": "code",
      "source": [
        "def if_function(condition, true_result, false_result):\n",
        "\n",
        "    if condition:\n",
        "        return true_result\n",
        "    else:\n",
        "        return false_result\n",
        "\n",
        "# Test cases\n",
        "print(if_function(True, 2, 3))              # Output: 2\n",
        "print(if_function(False, 2, 3))             # Output: 3\n",
        "print(if_function(3 == 2, 3 + 2, 3 - 2))    # Output: 1\n",
        "print(if_function(3 > 2, 3 + 2, 3 - 2))     # Output: 5\n"
      ],
      "metadata": {
        "id": "6jO-zVRiiOGi"
      },
      "execution_count": null,
      "outputs": []
    },
    {
      "cell_type": "code",
      "execution_count": null,
      "metadata": {
        "id": "NQ1V5Bh0pPqB"
      },
      "outputs": [],
      "source": [
        "def sum_odd():\n",
        "    \"\"\"\n",
        "    Return the sum of odd numbers less than or equal to the numeric input.\n",
        "    \"\"\"\n",
        "    numeric_input = int(input(\"Enter a numeric value: \"))\n",
        "    return sum(i for i in range(1, numeric_input + 1) if i % 2 != 0)\n",
        "print(sum_odd())  # Output will depend on the user input\n"
      ]
    },
    {
      "cell_type": "code",
      "source": [
        "def foo():\n",
        "    \"\"\"\n",
        "    Return the sum of squares of the two smallest numbers among a, b, c, and d.\n",
        "    \"\"\"\n",
        "    a = int(input(\"Enter the value of a: \"))\n",
        "    b = int(input(\"Enter the value of b: \"))\n",
        "    c = int(input(\"Enter the value of c: \"))\n",
        "    d = int(input(\"Enter the value of d: \"))\n",
        "\n",
        "    numbers = [a, b, c, d]\n",
        "    numbers.sort()\n",
        "    return numbers[0] ** 2 + numbers[1] ** 2\n",
        "\n",
        "result = foo()\n",
        "print(result)\n"
      ],
      "metadata": {
        "id": "52sMcj0C3CLo"
      },
      "execution_count": null,
      "outputs": []
    },
    {
      "cell_type": "code",
      "source": [
        "def df(x, y, z):\n",
        "    \"\"\"\n",
        "    Returns True if subtracting one of the numbers from another gives the third,\n",
        "    and False otherwise.\n",
        "    \"\"\"\n",
        "    if x - y == z:\n",
        "        return True\n",
        "    elif y - x == z:\n",
        "        return True\n",
        "    elif x - z == y:\n",
        "        return True\n",
        "    elif z - x == y:\n",
        "        return True\n",
        "    elif y - z == x:\n",
        "        return True\n",
        "    elif z - y == x:\n",
        "        return True\n",
        "    else:\n",
        "        return False\n",
        "\n",
        "x = int(input(\"Enter the value of x: \"))\n",
        "y = int(input(\"Enter the value of y: \"))\n",
        "z = int(input(\"Enter the value of z: \"))\n",
        "\n",
        "result = df(x, y, z)\n",
        "\n",
        "print(result)\n",
        "\n"
      ],
      "metadata": {
        "id": "WmOiYlxMJvs3"
      },
      "execution_count": null,
      "outputs": []
    },
    {
      "cell_type": "code",
      "execution_count": null,
      "metadata": {
        "id": "8b7S4Gdjvp1r"
      },
      "outputs": [],
      "source": [
        "def lrgst_factor(m):\n",
        "    \"\"\"\n",
        "    Return the largest factor of m that is smaller than m.\n",
        "    \"\"\"\n",
        "    largest_factor = 1\n",
        "\n",
        "    for i in range(2, m):\n",
        "        if m % i == 0:\n",
        "            largest_factor = i\n",
        "\n",
        "    return largest_factor\n",
        "\n",
        "m = int(input(\"Enter an integer greater than 1: \"))\n",
        "\n",
        "result = lrgst_factor(m)\n",
        "\n",
        "print(f\"The largest factor of {m} that is smaller than {m} is: {result}\")\n"
      ]
    },
    {
      "cell_type": "code",
      "source": [
        "def is_perfect_number(n):\n",
        "    \"\"\"\n",
        "    Return True if the number is a perfect number, False otherwise.\n",
        "    \"\"\"\n",
        "    if n <= 1:\n",
        "        return False\n",
        "\n",
        "    factors_sum = 1\n",
        "\n",
        "    for i in range(2, int(n**0.5) + 1):\n",
        "        if n % i == 0:\n",
        "            factors_sum += i\n",
        "            if i != n // i:\n",
        "                factors_sum += n // i\n",
        "\n",
        "    return factors_sum == n\n",
        "\n",
        "num = int(input(\"Enter a number: \"))\n",
        "result = is_perfect_number(num)\n",
        "\n",
        "if result:\n",
        "    print(f\"{num} is a perfect number.\")\n",
        "else:\n",
        "    print(f\"{num} is not a perfect number.\")"
      ],
      "metadata": {
        "id": "3t8VYgdlzBie"
      },
      "execution_count": null,
      "outputs": []
    },
    {
      "cell_type": "code",
      "source": [
        "def same_ord(a, b):\n",
        "    \"\"\"\n",
        "    Return whether positive integers a and b have the same number of bits.\n",
        "\n",
        "    Examples:\n",
        "    >>> same_ord(50, 70) # 2 bits of a and b\n",
        "    True\n",
        "    >>> same_ord(50, 100) # a is 2 bits; b is 3 bits\n",
        "    False\n",
        "    >>> same_ord(1000, 100000) # a is 4 bits; b is 6 bits\n",
        "    False\n",
        "    \"\"\"\n",
        "    count_bits_a = bin(a)[2:].count('1')  # Count the number of set bits in binary representation of a\n",
        "    count_bits_b = bin(b)[2:].count('1')  # Count the number of set bits in binary representation of b\n",
        "\n",
        "    return count_bits_a == count_bits_b\n",
        "\n",
        "# Test cases\n",
        "print(same_ord(50, 70))        # Output: True\n",
        "print(same_ord(50, 100))       # Output: False\n",
        "print(same_ord(1000, 100000))  # Output: False\n"
      ],
      "metadata": {
        "id": "s4IHN8LCmOg0"
      },
      "execution_count": null,
      "outputs": []
    },
    {
      "cell_type": "code",
      "source": [
        "def double_5(n):\n",
        "    \"\"\"\n",
        "    Return True if n has two fives in a row.\n",
        "\n",
        "    Args:\n",
        "    - n: Integer\n",
        "\n",
        "    Returns:\n",
        "    - True if n has two fives in a row, False otherwise\n",
        "    \"\"\"\n",
        "    digits = [int(digit) for digit in str(n)]\n",
        "    for i in range(len(digits) - 1):\n",
        "        if digits[i] == 5 and digits[i + 1] == 5:\n",
        "            return True\n",
        "    return False\n",
        "\n",
        "num = int(input(\"Enter a positive integer: \"))\n",
        "\n",
        "result = double_5(num)\n",
        "print(f\"The number {num} has two fives in a row: {result}\")\n"
      ],
      "metadata": {
        "id": "hUmOYBBKzpYD"
      },
      "execution_count": null,
      "outputs": []
    },
    {
      "cell_type": "code",
      "source": [
        "def uniq_digits(x):\n",
        "    \"\"\"\n",
        "    Return the number of unique digits in a positive integer.\n",
        "\n",
        "    Args:\n",
        "    - x: Positive integer\n",
        "\n",
        "    Returns:\n",
        "    - Number of unique digits in x\n",
        "    - List of unique digits\n",
        "    \"\"\"\n",
        "    digit_list = []\n",
        "    for digit in str(x):\n",
        "        digit = int(digit)\n",
        "        if digit not in digit_list:\n",
        "            digit_list.append(digit)\n",
        "\n",
        "    return len(digit_list), digit_list\n",
        "\n",
        "num = int(input(\"Enter a positive integer: \"))\n",
        "\n",
        "num_unique, unique_digits = uniq_digits(num)\n",
        "print(f\"The number {num} has {num_unique} unique digit(s): {unique_digits}.\")\n"
      ],
      "metadata": {
        "id": "i-uPaj0Sk1Sa"
      },
      "execution_count": null,
      "outputs": []
    },
    {
      "cell_type": "code",
      "source": [
        "import math\n",
        "\n",
        "def sum_proper_divisors(n):\n",
        "    # Initialize the sum of proper divisors\n",
        "    divisor_sum = 0\n",
        "\n",
        "    # Iterate through possible divisors up to the square root of n\n",
        "    for i in range(1, int(math.sqrt(n)) + 1):\n",
        "        if n % i == 0:  # Check if i is a divisor of n\n",
        "            divisor_sum += i  # Add i to the sum of proper divisors\n",
        "            # If i is not equal to n/i, add n/i to the sum as well\n",
        "            if i != n // i:\n",
        "                divisor_sum += n // i\n",
        "\n",
        "    return divisor_sum\n",
        "\n",
        "\n",
        "def amc(n):\n",
        "    # Start searching for amicable numbers from n + 1\n",
        "    num = n + 1\n",
        "\n",
        "    while True:\n",
        "        sum_divisors_num = sum_proper_divisors(num)\n",
        "        sum_divisors_sum = sum_proper_divisors(sum_divisors_num)\n",
        "\n",
        "        # Check if num and its sum of divisors are amicable\n",
        "        if sum_divisors_sum == num and num != sum_divisors_num:\n",
        "            return num  # Return the smallest amicable number found\n",
        "\n",
        "        num += 1  # Increment num for the next iteration\n",
        "\n",
        "# Test cases\n",
        "print(amc(5))    # Output: 220\n",
        "print(amc(220))  # Output: 284\n",
        "print(amc(284))  # Output: 1184\n",
        "r = amc(5000)\n",
        "print(r)         # Output: 5020\n"
      ],
      "metadata": {
        "id": "46zz_7-hk-6g"
      },
      "execution_count": null,
      "outputs": []
    }
  ]
}